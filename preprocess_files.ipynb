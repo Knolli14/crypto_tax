{
 "cells": [
  {
   "cell_type": "code",
   "execution_count": 1,
   "metadata": {},
   "outputs": [],
   "source": [
    "%load_ext autoreload\n",
    "%autoreload 2"
   ]
  },
  {
   "cell_type": "code",
   "execution_count": null,
   "metadata": {},
   "outputs": [],
   "source": [
    "from ctax.preprocess.preprocessor import Preprocessor\n",
    "from ctax.dataio.loading import load_history"
   ]
  },
  {
   "cell_type": "code",
   "execution_count": 3,
   "metadata": {},
   "outputs": [],
   "source": [
    "from ctax.preprocess.preprocessor import preprocess_kucoin_file"
   ]
  },
  {
   "cell_type": "code",
   "execution_count": 7,
   "metadata": {},
   "outputs": [
    {
     "name": "stdout",
     "output_type": "stream",
     "text": [
      "\n",
      "Loading bitpanda_all.csv...\n",
      "...loaded 4431 entries\n",
      "\n",
      "-> Preprocessing Bitpanda data...\n",
      "  -> Cleaning quantity columns...\n",
      "-> Postprocessing data...\n",
      "  -> Renaming columns...\n",
      "  -> Reordering columns...\n",
      "  -> Converting columns to different dtypes...\n",
      "...done\n",
      "\n",
      "Saving bitpanda_all.parquet...\n",
      "...saved to /home/knolli/code/Knolli14/pandas/data/processed/bitpanda_all.parquet\n",
      "\n",
      "Loading kucoin_2021.csv...\n",
      "...loaded 315 entries\n",
      "\n",
      "-> Preprocessing Kucoin data...\n",
      "  -> Splitting swaps and stable transactions\n",
      "  -> Processing swaps...\n",
      "  -> Removing 'USDT' from symbol column...\n",
      "-> Postprocessing data...\n",
      "  -> Renaming columns...\n",
      "  -> Reordering columns...\n",
      "  -> Converting columns to different dtypes...\n",
      "...done\n",
      "\n",
      "Saving kucoin_2021.parquet...\n",
      "...saved to /home/knolli/code/Knolli14/pandas/data/processed/kucoin_2021.parquet\n"
     ]
    }
   ],
   "source": [
    "\n",
    "\n",
    "files = [\"bitpanda_all.csv\", \"kucoin_2021.csv\"]\n",
    "proc_files = [\"bitpanda_all.parquet\", \"kucoin_2021.parquet\"]\n",
    "\n",
    "cexs = [\"bitpanda\", \"kucoin\"]\n",
    "\n",
    "histories = Preprocessor.preprocess_files(files, cexs)\n"
   ]
  },
  {
   "cell_type": "code",
   "execution_count": 12,
   "metadata": {},
   "outputs": [
    {
     "name": "stdout",
     "output_type": "stream",
     "text": [
      "Merging files...\n",
      "\n",
      "Loading bitpanda_all.parquet...\n",
      "...loaded 4431 entries\n",
      "\n",
      "Loading kucoin_2021.parquet...\n",
      "...loaded 318 entries\n",
      "\n",
      "-> New History has 4748 entries\n",
      "\n",
      "Saving merged.parquet...\n",
      "...saved to /home/knolli/code/Knolli14/pandas/data/processed/merged_4.parquet\n"
     ]
    }
   ],
   "source": [
    "Preprocessor.merge_files(proc_files)"
   ]
  },
  {
   "cell_type": "code",
   "execution_count": null,
   "metadata": {},
   "outputs": [
    {
     "ename": "KeyError",
     "evalue": "'bitpanda'",
     "output_type": "error",
     "traceback": [
      "\u001b[0;31m---------------------------------------------------------------------------\u001b[0m",
      "\u001b[0;31mKeyError\u001b[0m                                  Traceback (most recent call last)",
      "Cell \u001b[0;32mIn[40], line 1\u001b[0m\n\u001b[0;32m----> 1\u001b[0m \u001b[43mPreprocessor\u001b[49m\u001b[38;5;241;43m.\u001b[39;49m\u001b[43mget_worker\u001b[49m\u001b[43m(\u001b[49m\u001b[38;5;124;43m\"\u001b[39;49m\u001b[38;5;124;43mbitpanda\u001b[39;49m\u001b[38;5;124;43m\"\u001b[39;49m\u001b[43m)\u001b[49m\u001b[38;5;241m.\u001b[39mprocessed\n",
      "File \u001b[0;32m~/code/Knolli14/pandas/ctax/preprocess/preprocessor.py:106\u001b[0m, in \u001b[0;36mPreprocessor.get_worker\u001b[0;34m(cls, cex)\u001b[0m\n\u001b[1;32m    103\u001b[0m \u001b[38;5;129m@classmethod\u001b[39m\n\u001b[1;32m    104\u001b[0m \u001b[38;5;28;01mdef\u001b[39;00m\u001b[38;5;250m \u001b[39m\u001b[38;5;21mget_worker\u001b[39m(\u001b[38;5;28mcls\u001b[39m, cex: \u001b[38;5;28mstr\u001b[39m) \u001b[38;5;241m-\u001b[39m\u001b[38;5;241m>\u001b[39m \u001b[38;5;124m\"\u001b[39m\u001b[38;5;124mPreprocessor\u001b[39m\u001b[38;5;124m\"\u001b[39m:\n\u001b[1;32m    105\u001b[0m \u001b[38;5;250m    \u001b[39m\u001b[38;5;124;03m\"\"\" \"\"\"\u001b[39;00m\n\u001b[0;32m--> 106\u001b[0m     \u001b[38;5;28;01mreturn\u001b[39;00m \u001b[38;5;28;43mcls\u001b[39;49m\u001b[38;5;241;43m.\u001b[39;49m\u001b[43m_cex_workers\u001b[49m\u001b[43m[\u001b[49m\u001b[43mcex\u001b[49m\u001b[43m]\u001b[49m\n",
      "\u001b[0;31mKeyError\u001b[0m: 'bitpanda'"
     ]
    }
   ],
   "source": [
    "kc = load_"
   ]
  }
 ],
 "metadata": {
  "kernelspec": {
   "display_name": "crypto_tax",
   "language": "python",
   "name": "python3"
  },
  "language_info": {
   "codemirror_mode": {
    "name": "ipython",
    "version": 3
   },
   "file_extension": ".py",
   "mimetype": "text/x-python",
   "name": "python",
   "nbconvert_exporter": "python",
   "pygments_lexer": "ipython3",
   "version": "3.12.7"
  }
 },
 "nbformat": 4,
 "nbformat_minor": 2
}
