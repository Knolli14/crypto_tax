{
 "cells": [
  {
   "cell_type": "code",
   "execution_count": 1,
   "metadata": {},
   "outputs": [],
   "source": [
    "%load_ext autoreload\n",
    "%autoreload 2"
   ]
  },
  {
   "cell_type": "code",
   "execution_count": null,
   "metadata": {},
   "outputs": [],
   "source": [
    "#!pip install -e ."
   ]
  },
  {
   "cell_type": "code",
   "execution_count": 3,
   "metadata": {},
   "outputs": [],
   "source": [
    "from ctax.preprocess.preprocessor import Preprocessor\n",
    "from ctax.preprocess import ppfuncs as pp"
   ]
  },
  {
   "cell_type": "code",
   "execution_count": 4,
   "metadata": {},
   "outputs": [
    {
     "name": "stdout",
     "output_type": "stream",
     "text": [
      "\n",
      "Loading bitpanda_all.csv...\n",
      "...loaded 4431 entries\n",
      "\n",
      "-> Preprocessing Bitpanda data...\n",
      "  -> Cleaning quantity columns...\n",
      "-> Postprocessing data...\n",
      "  -> Renaming columns...\n",
      "  -> Reordering columns...\n",
      "  -> Converting columns to different dtypes...\n",
      "...done\n",
      "-> History now has 4431 entries.\n",
      "\n",
      "Saving bitpanda_all.parquet...\n",
      "...saved to /home/knolli/code/Knolli14/pandas/data/processed/bitpanda_all_2.parquet\n",
      "\n",
      "Loading kucoin_2021.csv...\n",
      "...loaded 315 entries\n",
      "\n",
      "-> Preprocessing Kucoin data...\n",
      "  -> Splitting swaps and stable transactions\n",
      "  -> Processing swaps...\n",
      "  -> Splitted 3 Swaps\n",
      "  -> Removing 'USDT' from symbol column...\n",
      "-> Postprocessing data...\n",
      "  -> Renaming columns...\n",
      "  -> Reordering columns...\n",
      "  -> Converting columns to different dtypes...\n",
      "...done\n",
      "-> History now has 318 entries.\n",
      "\n",
      "Saving kucoin_2021.parquet...\n",
      "...saved to /home/knolli/code/Knolli14/pandas/data/processed/kucoin_2021_2.parquet\n",
      "\n",
      "Merging files...\n",
      "-> Dropped 0 duplicates\n",
      "-> New History has 4749 entries\n",
      "\n",
      "Saving merged.parquet...\n",
      "...saved to /home/knolli/code/Knolli14/pandas/data/processed/merged_1.parquet\n"
     ]
    }
   ],
   "source": [
    "files = [\"bitpanda_all.csv\", \"kucoin_2021.csv\"]\n",
    "cexs = [\"bitpanda\", \"kucoin\"]\n",
    "\n",
    "histories = Preprocessor.preprocess_files(files, cexs)"
   ]
  },
  {
   "cell_type": "code",
   "execution_count": 5,
   "metadata": {},
   "outputs": [
    {
     "name": "stdout",
     "output_type": "stream",
     "text": [
      "\n",
      "Loading bitpanda_all.csv...\n",
      "...loaded 4431 entries\n",
      "\n",
      "-> Preprocessing Bitpanda data...\n",
      "  -> Cleaning quantity columns...\n",
      "-> Postprocessing data...\n",
      "  -> Renaming columns...\n",
      "  -> Reordering columns...\n",
      "  -> Converting columns to different dtypes...\n",
      "...done\n",
      "-> History now has 4431 entries.\n",
      "\n",
      "Saving bitpanda_all.parquet...\n",
      "...saved to /home/knolli/code/Knolli14/pandas/data/processed/bitpanda_all_3.parquet\n"
     ]
    }
   ],
   "source": [
    "pp.preprocess_bitpanda_files(\"bitpanda_all.csv\")\n"
   ]
  },
  {
   "cell_type": "code",
   "execution_count": 6,
   "metadata": {},
   "outputs": [
    {
     "name": "stdout",
     "output_type": "stream",
     "text": [
      "\n",
      "Loading kucoin_2021.csv...\n",
      "...loaded 315 entries\n",
      "\n",
      "-> Preprocessing Kucoin data...\n",
      "  -> Splitting swaps and stable transactions\n",
      "  -> Processing swaps...\n",
      "  -> Splitted 3 Swaps\n",
      "  -> Removing 'USDT' from symbol column...\n",
      "-> Postprocessing data...\n",
      "  -> Renaming columns...\n",
      "  -> Reordering columns...\n",
      "  -> Converting columns to different dtypes...\n",
      "...done\n",
      "-> History now has 318 entries.\n",
      "\n",
      "Saving kucoin_2021.parquet...\n",
      "...saved to /home/knolli/code/Knolli14/pandas/data/processed/kucoin_2021_3.parquet\n",
      "\n",
      "Loading kucoin_2022.csv...\n",
      "...loaded 857 entries\n",
      "\n",
      "-> Preprocessing Kucoin data...\n",
      "  -> Splitting swaps and stable transactions\n",
      "  -> Processing swaps...\n",
      "  -> Splitted 73 Swaps\n",
      "  -> Removing 'USDT' from symbol column...\n",
      "-> Postprocessing data...\n",
      "  -> Renaming columns...\n",
      "  -> Reordering columns...\n",
      "  -> Converting columns to different dtypes...\n",
      "...done\n",
      "-> History now has 930 entries.\n",
      "\n",
      "Saving kucoin_2022.parquet...\n",
      "...saved to /home/knolli/code/Knolli14/pandas/data/processed/kucoin_2022_1.parquet\n"
     ]
    }
   ],
   "source": [
    "pp.preprocess_kucoin_files([\"kucoin_2021.csv\", \"kucoin_2022.csv\"])"
   ]
  },
  {
   "cell_type": "code",
   "execution_count": 8,
   "metadata": {},
   "outputs": [
    {
     "name": "stdout",
     "output_type": "stream",
     "text": [
      "\n",
      "Merging files...\n",
      "\n",
      "Loading bitpanda_all.parquet...\n",
      "...loaded 4431 entries\n",
      "\n",
      "Loading kucoin_2021.parquet...\n",
      "...loaded 318 entries\n",
      "\n",
      "Loading kucoin_2022.parquet...\n",
      "...loaded 930 entries\n",
      "-> Dropped 4 duplicates\n",
      "-> New History has 5675 entries\n",
      "\n",
      "Saving history.parquet...\n",
      "...saved to /home/knolli/code/Knolli14/pandas/data/processed/history.parquet\n"
     ]
    }
   ],
   "source": [
    "proc_files = [\n",
    "    \"bitpanda_all.parquet\",\n",
    "    \"kucoin_2021.parquet\",\n",
    "    \"kucoin_2022.parquet\"\n",
    "]\n",
    "pp.merge_files(proc_files, \"history.parquet\")"
   ]
  }
 ],
 "metadata": {
  "kernelspec": {
   "display_name": "crypto_tax",
   "language": "python",
   "name": "python3"
  },
  "language_info": {
   "codemirror_mode": {
    "name": "ipython",
    "version": 3
   },
   "file_extension": ".py",
   "mimetype": "text/x-python",
   "name": "python",
   "nbconvert_exporter": "python",
   "pygments_lexer": "ipython3",
   "version": "3.12.7"
  }
 },
 "nbformat": 4,
 "nbformat_minor": 2
}
