{
 "cells": [
  {
   "cell_type": "markdown",
   "metadata": {},
   "source": [
    "# How to preprocess your files"
   ]
  },
  {
   "cell_type": "markdown",
   "metadata": {},
   "source": [
    "## Setup\n",
    "\n",
    "Best practice is to create a `virtual environment` for a new project\n",
    "I'm using `pyenv` for this"
   ]
  },
  {
   "cell_type": "code",
   "execution_count": 1,
   "metadata": {},
   "outputs": [],
   "source": [
    "# uncomment to install\n",
    "\n",
    "# create a virtual environment\n",
    "#!pyenv virtualenv 3.12.7 ctax\n",
    "\n",
    "# activate a local virtual environment for this project\n",
    "# make sure to be in the project root directory\n",
    "#!pyenv local ctax"
   ]
  },
  {
   "cell_type": "markdown",
   "metadata": {},
   "source": [
    "Next we install the dependencies"
   ]
  },
  {
   "cell_type": "code",
   "execution_count": null,
   "metadata": {},
   "outputs": [],
   "source": [
    "# uncomment to install\n",
    "\n",
    "#!pip install pandas yfinance pyarrow\n",
    "\n",
    "# for jupyter notebook support\n",
    "#!pip install jupyter"
   ]
  },
  {
   "cell_type": "markdown",
   "metadata": {},
   "source": [
    "We can also use the `requirements.txt`"
   ]
  },
  {
   "cell_type": "code",
   "execution_count": 3,
   "metadata": {},
   "outputs": [],
   "source": [
    "# uncomment to install\n",
    "\n",
    "#!pip install -e .\n",
    "#or\n",
    "#!pip install -r requirements.txt"
   ]
  },
  {
   "cell_type": "markdown",
   "metadata": {},
   "source": [
    "---"
   ]
  },
  {
   "cell_type": "markdown",
   "metadata": {},
   "source": [
    "## Preprocess\n",
    "The main function to do all at once is to use `preprocess_histories()`"
   ]
  },
  {
   "cell_type": "code",
   "execution_count": 4,
   "metadata": {},
   "outputs": [],
   "source": [
    "# this will guarantee that changes in your code will be automatically reloaded\n",
    "%load_ext autoreload\n",
    "%autoreload 2"
   ]
  },
  {
   "cell_type": "code",
   "execution_count": 5,
   "metadata": {},
   "outputs": [],
   "source": [
    "# imports\n",
    "from ctax.preprocess.preprocessing import preprocess_histories"
   ]
  },
  {
   "cell_type": "markdown",
   "metadata": {},
   "source": [
    "We need to pass:\n",
    "- `csv_file`: This can either a string or a list of strings with filenames\n",
    "- `cex`: For every file we need the Exchange it was exported from\n"
   ]
  },
  {
   "cell_type": "markdown",
   "metadata": {},
   "source": [
    "> Directory Paths can be changed in `paths.py`"
   ]
  },
  {
   "cell_type": "code",
   "execution_count": null,
   "metadata": {},
   "outputs": [
    {
     "name": "stdout",
     "output_type": "stream",
     "text": [
      "\n",
      "Opening /home/knolli/code/Knolli14/pandas/data/csv/bitpanda_all.csv\n",
      "Start Preprocessing bitpanda data...\n",
      "...saved to /home/knolli/code/Knolli14/pandas/data/parquet/bitpanda_all.parquet\n",
      "-> Finished Preprocess of bitpanda_all.csv\n",
      "--------------------------------------------------\n",
      "-> Done converting raw csv files to parquet!\n",
      "--------------------------------------------------\n"
     ]
    }
   ],
   "source": [
    "# using one file only\n",
    "csv_file = 'bitpanda_all.csv' #change to your filename\n",
    "cex = \"bitpanda\"\n",
    "\n",
    "# preprocess the data\n",
    "preprocess_histories(csv_file, cex)\n"
   ]
  },
  {
   "cell_type": "code",
   "execution_count": 13,
   "metadata": {},
   "outputs": [
    {
     "name": "stdout",
     "output_type": "stream",
     "text": [
      "\n",
      "Opening /home/knolli/code/Knolli14/pandas/data/csv/bitpanda_all.csv\n",
      "Start Preprocessing bitpanda data...\n",
      "...saved to /home/knolli/code/Knolli14/pandas/data/parquet/bitpanda_all.parquet\n",
      "-> Finished Preprocess of bitpanda_all.csv\n",
      "\n",
      "Opening /home/knolli/code/Knolli14/pandas/data/csv/kucoin_2021.csv\n",
      "Start Preprocessing kucoin data...\n",
      "...saved to /home/knolli/code/Knolli14/pandas/data/parquet/kucoin_2021.parquet\n",
      "-> Finished Preprocess of kucoin_2021.csv\n",
      "--------------------------------------------------\n",
      "-> Done converting raw csv files to parquet!\n",
      "--------------------------------------------------\n",
      "\n",
      "Merging all histories into one DataFrame...\n",
      "...saved to /home/knolli/code/Knolli14/pandas/data/parquet/full_history.parquet\n"
     ]
    }
   ],
   "source": [
    "# using multiple files\n",
    "\n",
    "csv_files = ['bitpanda_all.csv', \"kucoin_2021.csv\"]\n",
    "cexs = [\"bitpanda\", \"kucoin\"]\n",
    "\n",
    "preprocess_histories(csv_files, cexs)"
   ]
  },
  {
   "cell_type": "markdown",
   "metadata": {},
   "source": [
    "> if inserted more than one file, it will automatically be merged and saved as `full_history.parquet`"
   ]
  },
  {
   "cell_type": "markdown",
   "metadata": {},
   "source": [
    "---"
   ]
  },
  {
   "cell_type": "markdown",
   "metadata": {},
   "source": [
    "### Open history"
   ]
  },
  {
   "cell_type": "markdown",
   "metadata": {},
   "source": [
    "To open this file use the `open_parquet()` method"
   ]
  },
  {
   "cell_type": "code",
   "execution_count": 15,
   "metadata": {},
   "outputs": [
    {
     "data": {
      "text/html": [
       "<div>\n",
       "<style scoped>\n",
       "    .dataframe tbody tr th:only-of-type {\n",
       "        vertical-align: middle;\n",
       "    }\n",
       "\n",
       "    .dataframe tbody tr th {\n",
       "        vertical-align: top;\n",
       "    }\n",
       "\n",
       "    .dataframe thead th {\n",
       "        text-align: right;\n",
       "    }\n",
       "</style>\n",
       "<table border=\"1\" class=\"dataframe\">\n",
       "  <thead>\n",
       "    <tr style=\"text-align: right;\">\n",
       "      <th></th>\n",
       "      <th>timestamp</th>\n",
       "      <th>tx_type</th>\n",
       "      <th>amount_fiat</th>\n",
       "      <th>fiat</th>\n",
       "      <th>amount_asset</th>\n",
       "      <th>asset</th>\n",
       "    </tr>\n",
       "  </thead>\n",
       "  <tbody>\n",
       "    <tr>\n",
       "      <th>0</th>\n",
       "      <td>2021-03-11 15:14:44</td>\n",
       "      <td>deposit</td>\n",
       "      <td>50.00</td>\n",
       "      <td>EUR</td>\n",
       "      <td>0.000000</td>\n",
       "      <td>EUR</td>\n",
       "    </tr>\n",
       "    <tr>\n",
       "      <th>1</th>\n",
       "      <td>2021-03-11 15:34:16</td>\n",
       "      <td>buy</td>\n",
       "      <td>16.95</td>\n",
       "      <td>EUR</td>\n",
       "      <td>19.957612</td>\n",
       "      <td>USDT</td>\n",
       "    </tr>\n",
       "    <tr>\n",
       "      <th>2</th>\n",
       "      <td>2021-03-11 15:43:13</td>\n",
       "      <td>buy</td>\n",
       "      <td>23.66</td>\n",
       "      <td>EUR</td>\n",
       "      <td>30.000000</td>\n",
       "      <td>BEST</td>\n",
       "    </tr>\n",
       "    <tr>\n",
       "      <th>3</th>\n",
       "      <td>2021-03-11 18:43:08</td>\n",
       "      <td>buy</td>\n",
       "      <td>6.02</td>\n",
       "      <td>EUR</td>\n",
       "      <td>5000.000000</td>\n",
       "      <td>BTT</td>\n",
       "    </tr>\n",
       "    <tr>\n",
       "      <th>4</th>\n",
       "      <td>2021-03-11 18:50:33</td>\n",
       "      <td>sell</td>\n",
       "      <td>5.02</td>\n",
       "      <td>EUR</td>\n",
       "      <td>6.464104</td>\n",
       "      <td>BEST</td>\n",
       "    </tr>\n",
       "  </tbody>\n",
       "</table>\n",
       "</div>"
      ],
      "text/plain": [
       "            timestamp  tx_type  amount_fiat fiat  amount_asset asset\n",
       "0 2021-03-11 15:14:44  deposit        50.00  EUR      0.000000   EUR\n",
       "1 2021-03-11 15:34:16      buy        16.95  EUR     19.957612  USDT\n",
       "2 2021-03-11 15:43:13      buy        23.66  EUR     30.000000  BEST\n",
       "3 2021-03-11 18:43:08      buy         6.02  EUR   5000.000000   BTT\n",
       "4 2021-03-11 18:50:33     sell         5.02  EUR      6.464104  BEST"
      ]
     },
     "execution_count": 15,
     "metadata": {},
     "output_type": "execute_result"
    }
   ],
   "source": [
    "from ctax.data import open_parquet\n",
    "\n",
    "history = open_parquet(\"full_history.parquet\")\n",
    "history.head()"
   ]
  },
  {
   "cell_type": "markdown",
   "metadata": {},
   "source": [
    "#### to be continued...\n"
   ]
  },
  {
   "cell_type": "markdown",
   "metadata": {},
   "source": []
  }
 ],
 "metadata": {
  "kernelspec": {
   "display_name": "crypto_tax",
   "language": "python",
   "name": "python3"
  },
  "language_info": {
   "codemirror_mode": {
    "name": "ipython",
    "version": 3
   },
   "file_extension": ".py",
   "mimetype": "text/x-python",
   "name": "python",
   "nbconvert_exporter": "python",
   "pygments_lexer": "ipython3",
   "version": "3.12.7"
  }
 },
 "nbformat": 4,
 "nbformat_minor": 2
}
